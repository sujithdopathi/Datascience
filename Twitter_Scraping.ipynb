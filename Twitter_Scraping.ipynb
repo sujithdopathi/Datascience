{
 "cells": [
  {
   "cell_type": "code",
   "execution_count": 4,
   "id": "e069ddfc",
   "metadata": {},
   "outputs": [],
   "source": [
    "import snscrape.modules.twitter as sntwitter\n",
    "import pandas as pd\n",
    "import pymongo\n",
    "import streamlit as st"
   ]
  },
  {
   "cell_type": "code",
   "execution_count": 5,
   "id": "1e21fc7d",
   "metadata": {},
   "outputs": [],
   "source": [
    "client = pymongo.MongoClient('mongodb://localhost:27017/')\n",
    "db = client['twitter']"
   ]
  },
  {
   "cell_type": "code",
   "execution_count": null,
   "id": "8250e68a",
   "metadata": {
    "scrolled": true
   },
   "outputs": [],
   "source": [
    "keyword = \"TATAIPL\"\n",
    "start_date = \"2023-04-01\"\n",
    "end_date = \"2023-04-18\"\n",
    "limit = 1000\n",
    "def scrape_twitter_data(keyword,start_date,end_date,limit):\n",
    "    tweets = []\n",
    "    for i, tweet in enumerate(sntwitter.TwitterSearchScraper(f'{keyword} since:{start_date} untill:{end_date}))"
   ]
  },
  {
   "cell_type": "code",
   "execution_count": null,
   "id": "e1ff222b",
   "metadata": {},
   "outputs": [],
   "source": []
  },
  {
   "cell_type": "code",
   "execution_count": null,
   "id": "b26fa5c9",
   "metadata": {},
   "outputs": [],
   "source": []
  },
  {
   "cell_type": "code",
   "execution_count": null,
   "id": "b193f4e6",
   "metadata": {},
   "outputs": [],
   "source": []
  }
 ],
 "metadata": {
  "kernelspec": {
   "display_name": "Python 3 (ipykernel)",
   "language": "python",
   "name": "python3"
  },
  "language_info": {
   "codemirror_mode": {
    "name": "ipython",
    "version": 3
   },
   "file_extension": ".py",
   "mimetype": "text/x-python",
   "name": "python",
   "nbconvert_exporter": "python",
   "pygments_lexer": "ipython3",
   "version": "3.9.13"
  }
 },
 "nbformat": 4,
 "nbformat_minor": 5
}
