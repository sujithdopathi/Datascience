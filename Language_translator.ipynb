{
  "nbformat": 4,
  "nbformat_minor": 0,
  "metadata": {
    "colab": {
      "provenance": [],
      "authorship_tag": "ABX9TyMys7ci8nuUY4UWc3emY6J8",
      "include_colab_link": true
    },
    "kernelspec": {
      "name": "python3",
      "display_name": "Python 3"
    },
    "language_info": {
      "name": "python"
    }
  },
  "cells": [
    {
      "cell_type": "markdown",
      "metadata": {
        "id": "view-in-github",
        "colab_type": "text"
      },
      "source": [
        "<a href=\"https://colab.research.google.com/github/sujithdopathi/Datascience/blob/main/Language_translator.ipynb\" target=\"_parent\"><img src=\"https://colab.research.google.com/assets/colab-badge.svg\" alt=\"Open In Colab\"/></a>"
      ]
    },
    {
      "cell_type": "code",
      "execution_count": 1,
      "metadata": {
        "colab": {
          "base_uri": "https://localhost:8080/"
        },
        "id": "F8FeH0QGYUGD",
        "outputId": "170ed96b-42a4-4c01-d16f-e72156175190"
      },
      "outputs": [
        {
          "output_type": "stream",
          "name": "stdout",
          "text": [
            "Enter the source language code (e.g., en for English): en\n",
            "Enter the target language code (e.g., hi for Hindi): hi\n",
            "Enter the text to translate: How is your day?\n",
            "Translated Text (hi): आपका दिन कैसा है?\n"
          ]
        }
      ],
      "source": [
        "import json\n",
        "import requests\n",
        "\n",
        "def translate_text(source_lang, target_lang, text_to_translate):\n",
        "    url = f\"https://api.apilayer.com/language_translation/translate?source={source_lang}&target={target_lang}\"\n",
        "    payload = text_to_translate.encode(\"utf-8\")\n",
        "    headers = {\n",
        "        \"apikey\": \"e0JPk1k1mYj6N09H7ihcBLOVETHUZ8QN\"\n",
        "    }\n",
        "\n",
        "    response = requests.post(url, headers=headers, data=payload)\n",
        "\n",
        "    result = response.text.encode(\"utf-8\").decode(\"unicode-escape\")\n",
        "\n",
        "    response_data = json.loads(result)\n",
        "    translated_text = response_data['translations'][0]['translation']\n",
        "\n",
        "    return translated_text\n",
        "\n",
        "def main():\n",
        "    source_lang = input(\"Enter the source language code (e.g., en for English): \")\n",
        "    target_lang = input(\"Enter the target language code (e.g., hi for Hindi): \")\n",
        "    text_to_translate = input(\"Enter the text to translate: \")\n",
        "\n",
        "    translated_text = translate_text(source_lang, target_lang, text_to_translate)\n",
        "    print(f\"Translated Text ({target_lang}): {translated_text}\")\n",
        "\n",
        "if __name__ == \"__main__\":\n",
        "    main()\n"
      ]
    },
    {
      "cell_type": "code",
      "source": [],
      "metadata": {
        "id": "Pley_XtjYbf_"
      },
      "execution_count": null,
      "outputs": []
    }
  ]
}