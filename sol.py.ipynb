{
 "cells": [
  {
   "cell_type": "code",
   "execution_count": 10,
   "id": "8e6cf1a6",
   "metadata": {},
   "outputs": [],
   "source": [
    "import solara \n",
    "sentence= solara.reactive(\"make our team more productive.\")\n",
    "word_limit = solara.reactive(10)"
   ]
  },
  {
   "cell_type": "code",
   "execution_count": 8,
   "id": "699653cc",
   "metadata": {},
   "outputs": [
    {
     "name": "stderr",
     "output_type": "stream",
     "text": [
      "Component react.component(__main__.page) raised exception NameError(\"name 'wordl_limit' is not defined\")\n",
      "Traceback (most recent call last):\n",
      "  File \"C:\\Users\\HrishikeshReddy\\anaconda3\\lib\\site-packages\\reacton\\core.py\", line 1647, in _render\n",
      "    root_element = el.component.f(*el.args, **el.kwargs)\n",
      "  File \"C:\\Users\\HrishikeshReddy\\AppData\\Local\\Temp\\ipykernel_1252\\4144053917.py\", line 8, in page\n",
      "    if word_count >= int(wordl_limit.value):\n",
      "NameError: name 'wordl_limit' is not defined\n"
     ]
    },
    {
     "data": {
      "application/vnd.jupyter.widget-view+json": {
       "model_id": "3b857960c7c94660aa1f8e0bbcfdeccc",
       "version_major": 2,
       "version_minor": 0
      },
      "text/html": [
       "Cannot show widget. You probably want to rerun the code cell above (<i>Click in the code cell, and press Shift+Enter <kbd>⇧</kbd>+<kbd>↩</kbd></i>)."
      ],
      "text/plain": [
       "Cannot show ipywidgets in text"
      ]
     },
     "metadata": {},
     "output_type": "display_data"
    }
   ],
   "source": [
    "@sl.component\n",
    "def page():\n",
    "    #\n",
    "    word_count = len(sentence.value.split())\n",
    "    \n",
    "    sl.SliderInt(\"word limit\", value = word_limit, min=2, max=20)\n",
    "    sl.InputText(label= \"your sentence\", value = sentence, continious_update = True)\n",
    "    if word_count >= int(wordl_limit.value):\n",
    "        sl.Error(f\"With {word_count} words, you passed the word limit of {word_limit.value}.\")\n",
    "    elif word_count >= int(0.8 * wordl_imit.vale):\n",
    "        sl.Warning(f\"With {word_count} words, you are close to the word limit of {word_limit.value}.\")\n",
    "    else:\n",
    "        sl.Success(\"Great short writing! Dude\")\n",
    "        \n",
    "page()"
   ]
  },
  {
   "cell_type": "code",
   "execution_count": 11,
   "id": "91085ab3",
   "metadata": {},
   "outputs": [
    {
     "data": {
      "application/vnd.jupyter.widget-view+json": {
       "model_id": "f4993b2dd4724185a05ca10accad994b",
       "version_major": 2,
       "version_minor": 0
      },
      "text/html": [
       "Cannot show widget. You probably want to rerun the code cell above (<i>Click in the code cell, and press Shift+Enter <kbd>⇧</kbd>+<kbd>↩</kbd></i>)."
      ],
      "text/plain": [
       "Cannot show ipywidgets in text"
      ]
     },
     "metadata": {},
     "output_type": "display_data"
    }
   ],
   "source": [
    "@solara.component\n",
    "def Page():\n",
    "    # Calculate word_count within the component to ensure re-execution when reactive variables change.\n",
    "    word_count = len(sentence.value.split())\n",
    "\n",
    "    solara.SliderInt(\"Word limit\", value=word_limit, min=2, max=20)\n",
    "    solara.InputText(label=\"Your sentence\", value=sentence, continuous_update=True)\n",
    "\n",
    "    # Display messages based on the current word count and word limit.\n",
    "    if word_count >= int(word_limit.value):\n",
    "        solara.Error(f\"With {word_count} words, you passed the word limit of {word_limit.value}.\")\n",
    "    elif word_count >= int(0.8 * word_limit.value):\n",
    "        solara.Warning(f\"With {word_count} words, you are close to the word limit of {word_limit.value}.\")\n",
    "    else:\n",
    "        solara.Success(\"Great short writing!\")\n",
    "\n",
    "\n",
    "# The following line is required only when running the code in a Jupyter notebook:\n",
    "Page()"
   ]
  },
  {
   "cell_type": "code",
   "execution_count": null,
   "id": "436efba8",
   "metadata": {},
   "outputs": [],
   "source": []
  }
 ],
 "metadata": {
  "kernelspec": {
   "display_name": "Python 3 (ipykernel)",
   "language": "python",
   "name": "python3"
  },
  "language_info": {
   "codemirror_mode": {
    "name": "ipython",
    "version": 3
   },
   "file_extension": ".py",
   "mimetype": "text/x-python",
   "name": "python",
   "nbconvert_exporter": "python",
   "pygments_lexer": "ipython3",
   "version": "3.9.13"
  }
 },
 "nbformat": 4,
 "nbformat_minor": 5
}
